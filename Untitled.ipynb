{
 "cells": [
  {
   "cell_type": "markdown",
   "id": "f1f8dd0b",
   "metadata": {},
   "source": [
    "### Imports and formatting"
   ]
  },
  {
   "cell_type": "code",
   "execution_count": 1,
   "id": "03de9006",
   "metadata": {},
   "outputs": [],
   "source": [
    "import pandas as pd\n",
    "import networkx as nx\n",
    "import matplotlib.pyplot as plt\n",
    "%matplotlib inline\n",
    "\n",
    "df = pd.read_csv('/Users/ernest/PycharmProjects/Data_Viz/Network Graph/got_book1.csv')\n",
    "\n",
    "# subset to significant weights only\n",
    "df = df.loc[df['weight']>10, :]"
   ]
  },
  {
   "cell_type": "markdown",
   "id": "8e72bb17",
   "metadata": {},
   "source": [
    "### Transforming with networkx module"
   ]
  },
  {
   "cell_type": "code",
   "execution_count": 2,
   "id": "e182b09b",
   "metadata": {},
   "outputs": [
    {
     "name": "stdout",
     "output_type": "stream",
     "text": [
      "No of unique characters: 80\n",
      "No of connections: 175\n"
     ]
    }
   ],
   "source": [
    "# load pandas df as networkx graph\n",
    "G = nx.from_pandas_edgelist(df,\n",
    "                            source='Source',\n",
    "                            target='Target',\n",
    "                            edge_attr='weight')\n",
    "print(\"No of unique characters:\", len(G.nodes))\n",
    "print(\"No of connections:\", len(G.edges))\n"
   ]
  },
  {
   "cell_type": "markdown",
   "id": "297288a0",
   "metadata": {},
   "source": [
    "### Creating Viz"
   ]
  },
  {
   "cell_type": "code",
   "execution_count": 5,
   "id": "082d6271",
   "metadata": {},
   "outputs": [
    {
     "name": "stdout",
     "output_type": "stream",
     "text": [
      "Warning: When  cdn_resources is 'local' jupyter notebook has issues displaying graphics on chrome/safari. Use cdn_resources='in_line' or cdn_resources='remote' if you have issues viewing graphics in a notebook.\n",
      "example_clean.html\n"
     ]
    },
    {
     "data": {
      "text/html": [
       "\n",
       "        <iframe\n",
       "            width=\"1000\"\n",
       "            height=\"600\"\n",
       "            src=\"example_clean.html\"\n",
       "            frameborder=\"0\"\n",
       "            allowfullscreen\n",
       "            \n",
       "        ></iframe>\n",
       "        "
      ],
      "text/plain": [
       "<IPython.lib.display.IFrame at 0x15ea85b90>"
      ]
     },
     "execution_count": 5,
     "metadata": {},
     "output_type": "execute_result"
    }
   ],
   "source": [
    "# import pyvis\n",
    "from pyvis.network import Network\n",
    "# create vis network\n",
    "net = Network(notebook=True, width=1000, height=600)\n",
    "# load the networkx graph\n",
    "net.from_nx(G)\n",
    "# show\n",
    "net.show(\"example_clean.html\")"
   ]
  },
  {
   "cell_type": "code",
   "execution_count": null,
   "id": "0071e7e4",
   "metadata": {},
   "outputs": [],
   "source": []
  }
 ],
 "metadata": {
  "kernelspec": {
   "display_name": "Python 3 (ipykernel)",
   "language": "python",
   "name": "python3"
  },
  "language_info": {
   "codemirror_mode": {
    "name": "ipython",
    "version": 3
   },
   "file_extension": ".py",
   "mimetype": "text/x-python",
   "name": "python",
   "nbconvert_exporter": "python",
   "pygments_lexer": "ipython3",
   "version": "3.11.3"
  }
 },
 "nbformat": 4,
 "nbformat_minor": 5
}
